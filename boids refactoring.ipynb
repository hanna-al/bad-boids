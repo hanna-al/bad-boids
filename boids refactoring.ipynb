{
 "cells": [
  {
   "cell_type": "code",
   "execution_count": null,
   "metadata": {},
   "outputs": [],
   "source": [
    "\"\"\"\n",
    "A deliberately bad implementation of \n",
    "[Boids](http://dl.acm.org/citation.cfm?doid=37401.37406)\n",
    "for use as an exercise on refactoring.\n",
    "\"\"\"\n",
    "\n",
    "from matplotlib import pyplot as plt\n",
    "from matplotlib import animation\n",
    "\n",
    "import random\n",
    "\n",
    "# Deliberately terrible code for teaching purposes\n",
    "\n",
    "boids_x=[random.uniform(-450,50.0) for x in range(50)]\n",
    "boids_y=[random.uniform(300.0,600.0) for x in range(50)]\n",
    "boid_x_velocities=[random.uniform(0,10.0) for x in range(50)]\n",
    "boid_y_velocities=[random.uniform(-20.0,20.0) for x in range(50)]\n",
    "boids=(boids_x,boids_y,boid_x_velocities,boid_y_velocities)\n",
    "\n",
    "def update_boids(boids):\n",
    "    xs,ys,xvs,yvs=boids\n",
    "    # Fly towards the middle\n",
    "    for i in range(len(xs)):\n",
    "        for j in range(len(xs)):\n",
    "            xvs[i]=xvs[i]+(xs[j]-xs[i])*0.01/len(xs)\n",
    "    for i in range(len(xs)):\n",
    "        for j in range(len(xs)):\n",
    "            yvs[i]=yvs[i]+(ys[j]-ys[i])*0.01/len(xs)\n",
    "    # Fly away from nearby boids\n",
    "    for i in range(len(xs)):\n",
    "        for j in range(len(xs)):\n",
    "            if (xs[j]-xs[i])**2 + (ys[j]-ys[i])**2 < 100:\n",
    "                xvs[i]=xvs[i]+(xs[i]-xs[j])\n",
    "                yvs[i]=yvs[i]+(ys[i]-ys[j])\n",
    "    # Try to match speed with nearby boids\n",
    "    for i in range(len(xs)):\n",
    "        for j in range(len(xs)):\n",
    "            if (xs[j]-xs[i])**2 + (ys[j]-ys[i])**2 < 10000:\n",
    "                xvs[i]=xvs[i]+(xvs[j]-xvs[i])*0.125/len(xs)\n",
    "                yvs[i]=yvs[i]+(yvs[j]-yvs[i])*0.125/len(xs)\n",
    "    # Move according to velocities\n",
    "    for i in range(len(xs)):\n",
    "        xs[i]=xs[i]+xvs[i]\n",
    "        ys[i]=ys[i]+yvs[i]\n",
    "\n",
    "figure=plt.figure()\n",
    "axes=plt.axes(xlim=(-500,1500), ylim=(-500,1500))\n",
    "scatter=axes.scatter(boids[0],boids[1])\n",
    "\n",
    "def animate(frame):\n",
    "    update_boids(boids)\n",
    "    scatter.set_offsets(list(zip(boids[0],boids[1])))\n",
    "\n",
    "\n",
    "anim = animation.FuncAnimation(figure, animate,\n",
    "                               frames=200, interval=50)"
   ]
  },
  {
   "cell_type": "code",
   "execution_count": null,
   "metadata": {},
   "outputs": [],
   "source": [
    "import yaml\n",
    "import boids\n",
    "from copy import deepcopy\n",
    "\n",
    "before=deepcopy(boids.boids)\n",
    "boids.update_boids(boids.boids)\n",
    "after=boids.boids\n",
    "fixture={\"before\":before,\"after\":after}\n",
    "fixture_file=open(\"fixture.yml\",'w')\n",
    "fixture_file.write(yaml.dump(fixture))\n",
    "fixture_file.close()"
   ]
  },
  {
   "cell_type": "code",
   "execution_count": null,
   "metadata": {},
   "outputs": [],
   "source": [
    "from boids import update_boids\n",
    "from nose.tools import assert_almost_equal\n",
    "import os\n",
    "import yaml\n",
    "\n",
    "def test_bad_boids_regression():\n",
    "    regression_data=yaml.load(open(os.path.join(os.path.dirname(__file__),'fixture.yml')))\n",
    "    boid_data=regression_data[\"before\"]\n",
    "    update_boids(boid_data)\n",
    "    for after,before in zip(regression_data[\"after\"],boid_data):\n",
    "        for after_value,before_value in zip(after,before): \n",
    "            assert_almost_equal(after_value,before_value,delta=0.01)"
   ]
  }
 ],
 "metadata": {
  "kernelspec": {
   "display_name": "Python 3",
   "language": "python",
   "name": "python3"
  },
  "language_info": {
   "codemirror_mode": {
    "name": "ipython",
    "version": 3
   },
   "file_extension": ".py",
   "mimetype": "text/x-python",
   "name": "python",
   "nbconvert_exporter": "python",
   "pygments_lexer": "ipython3",
   "version": "3.7.3"
  }
 },
 "nbformat": 4,
 "nbformat_minor": 2
}

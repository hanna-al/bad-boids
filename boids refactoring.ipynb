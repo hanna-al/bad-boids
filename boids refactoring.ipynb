{
 "cells": [
  {
   "cell_type": "code",
   "execution_count": 14,
   "metadata": {},
   "outputs": [
    {
     "name": "stdout",
     "output_type": "stream",
     "text": [
      "[-17.164361985845574, -170.89080133776918, -82.67795318647615, -138.0824266110978, 47.18489315439365, -373.1582868363634, -234.09191871680224, -68.1466901064814, -156.25885075507097, 9.06527514489244, -284.7759916815411, -180.69234707001328, -66.34870658829061, -427.91190103296196, -217.1138243746128, -375.6235404124635, -195.0812440661971, -229.94423309214943, -36.71448114513163, -121.2216543996924, -330.8011905032107, -287.53617502244856, -305.16539020112396, -184.55758182056547, -21.053335929248476, -136.78248653463936, -15.879287204056595, -279.9503052492667, -224.53177270888784, -321.56806870929256, -32.20741043289894, -242.48165022425644, -138.3426102951758, -423.5246571805674, -22.94934268474401, -333.48842710180065, -156.6979748910939, -178.39956842658313, 3.384704755633095, -107.39693660415617, -388.1790414998635, -126.99247734671155, -273.5574198203077, -354.8185364140906, -304.3901886834051, -23.484219039607353, -110.7244694023301, -437.06094170706643, -133.65500132325377, -175.35809620971656]\n"
     ]
    },
    {
     "data": {
      "image/png": "[encoded data removed]",
      "text/plain": [
       "<Figure size 432x288 with 1 Axes>"
      ]
     },
     "metadata": {},
     "output_type": "display_data"
    }
   ],
   "source": [
    "\"\"\"\n",
    "A deliberately bad implementation of \n",
    "[Boids](http://dl.acm.org/citation.cfm?doid=37401.37406)\n",
    "for use as an exercise on refactoring.\n",
    "\"\"\"\n",
    "\n",
    "from matplotlib import pyplot as plt\n",
    "from matplotlib import animation\n",
    "\n",
    "import random\n",
    "\n",
    "# Deliberately terrible code for teaching purposes\n",
    "\n",
    "def RandArray(a,b):\n",
    "    return([random.uniform(a,b) for x in range(50)])\n",
    "\n",
    "boids_x=RandArray(-450,50.0) \n",
    "boids_y=RandArray(300.0,600.0)\n",
    "boid_x_velocities=RandArray(0,10.0)\n",
    "boid_y_velocities=RandArray(-20.0,20.0)\n",
    "\n",
    "\n",
    "#boids_y=[random.uniform(300.0,600.0) for x in range(50)]\n",
    "#boid_x_velocities=[random.uniform(0,10.0) for x in range(50)]\n",
    "#boid_y_velocities=[random.uniform(-20.0,20.0) for x in range(50)]\n",
    "\n",
    "boids=(boids_x,boids_y,boid_x_velocities,boid_y_velocities)\n",
    "\n",
    "def update_boids(boids):\n",
    "    xs,ys,xvs,yvs=boids\n",
    "    \n",
    "    # Fly towards the middle\n",
    "    for i in range(len(xs)):\n",
    "        for j in range(len(xs)):\n",
    "            xvs[i]=xvs[i]+(xs[j]-xs[i])*0.01/len(xs) \n",
    "            yvs[i]=yvs[i]+(ys[j]-ys[i])*0.01/len(xs)\n",
    "    \n",
    "    # Fly away from nearby boids\n",
    "    for i in range(len(xs)):\n",
    "        for j in range(len(xs)):\n",
    "            if (xs[j]-xs[i])**2 + (ys[j]-ys[i])**2 < 100:\n",
    "                xvs[i]=xvs[i]+(xs[i]-xs[j])\n",
    "                yvs[i]=yvs[i]+(ys[i]-ys[j])\n",
    "    \n",
    "    # Try to match speed with nearby boids\n",
    "    for i in range(len(xs)):\n",
    "        for j in range(len(xs)):\n",
    "            if (xs[j]-xs[i])**2 + (ys[j]-ys[i])**2 < 10000:\n",
    "                xvs[i]=xvs[i]+(xvs[j]-xvs[i])*0.125/len(xs)\n",
    "                yvs[i]=yvs[i]+(yvs[j]-yvs[i])*0.125/len(xs)\n",
    "    \n",
    "    # Move according to velocities\n",
    "    for i in range(len(xs)):\n",
    "        xs[i]=xs[i]+xvs[i]\n",
    "        ys[i]=ys[i]+yvs[i]\n",
    "\n",
    "figure=plt.figure()\n",
    "axes=plt.axes(xlim=(-500,1500), ylim=(-500,1500))\n",
    "scatter=axes.scatter(boids[0],boids[1])\n",
    "\n",
    "def animate(frame):\n",
    "    update_boids(boids)\n",
    "    scatter.set_offsets(list(zip(boids[0],boids[1])))\n",
    "\n",
    "anim = animation.FuncAnimation(figure, animate,\n",
    "                               frames=200, interval=50)"
   ]
  },
  {
   "cell_type": "code",
   "execution_count": 10,
   "metadata": {},
   "outputs": [
    {
     "ename": "ModuleNotFoundError",
     "evalue": "No module named 'boids'",
     "output_type": "error",
     "traceback": [
      "\u001b[0;31m---------------------------------------------------------------------------\u001b[0m",
      "\u001b[0;31mModuleNotFoundError\u001b[0m                       Traceback (most recent call last)",
      "\u001b[0;32m<ipython-input-10-bb730138843b>\u001b[0m in \u001b[0;36m<module>\u001b[0;34m()\u001b[0m\n\u001b[1;32m      1\u001b[0m \u001b[0;32mimport\u001b[0m \u001b[0myaml\u001b[0m\u001b[0;34m\u001b[0m\u001b[0;34m\u001b[0m\u001b[0m\n\u001b[0;32m----> 2\u001b[0;31m \u001b[0;32mimport\u001b[0m \u001b[0mboids\u001b[0m\u001b[0;34m\u001b[0m\u001b[0;34m\u001b[0m\u001b[0m\n\u001b[0m\u001b[1;32m      3\u001b[0m \u001b[0;32mfrom\u001b[0m \u001b[0mcopy\u001b[0m \u001b[0;32mimport\u001b[0m \u001b[0mdeepcopy\u001b[0m\u001b[0;34m\u001b[0m\u001b[0;34m\u001b[0m\u001b[0m\n\u001b[1;32m      4\u001b[0m \u001b[0;34m\u001b[0m\u001b[0m\n\u001b[1;32m      5\u001b[0m \u001b[0mbefore\u001b[0m\u001b[0;34m=\u001b[0m\u001b[0mdeepcopy\u001b[0m\u001b[0;34m(\u001b[0m\u001b[0mboids\u001b[0m\u001b[0;34m.\u001b[0m\u001b[0mboids\u001b[0m\u001b[0;34m)\u001b[0m\u001b[0;34m\u001b[0m\u001b[0;34m\u001b[0m\u001b[0m\n",
      "\u001b[0;31mModuleNotFoundError\u001b[0m: No module named 'boids'"
     ]
    }
   ],
   "source": [
    "import yaml\n",
    "import boids\n",
    "from copy import deepcopy\n",
    "\n",
    "before=deepcopy(boids.boids)\n",
    "boids.update_boids(boids.boids)\n",
    "after=boids.boids\n",
    "fixture={\"before\":before,\"after\":after}\n",
    "fixture_file=open(\"fixture.yml\",'w')\n",
    "fixture_file.write(yaml.dump(fixture))\n",
    "fixture_file.close()"
   ]
  },
  {
   "cell_type": "code",
   "execution_count": null,
   "metadata": {},
   "outputs": [],
   "source": [
    "from boids import update_boids\n",
    "from nose.tools import assert_almost_equal\n",
    "import os\n",
    "import yaml\n",
    "\n",
    "def test_bad_boids_regression():\n",
    "    regression_data=yaml.load(open(os.path.join(os.path.dirname(__file__),'fixture.yml')))\n",
    "    boid_data=regression_data[\"before\"]\n",
    "    update_boids(boid_data)\n",
    "    for after,before in zip(regression_data[\"after\"],boid_data):\n",
    "        for after_value,before_value in zip(after,before): \n",
    "            assert_almost_equal(after_value,before_value,delta=0.01)"
   ]
  }
 ],
 "metadata": {
  "kernelspec": {
   "display_name": "Python 3",
   "language": "python",
   "name": "python3"
  },
  "language_info": {
   "codemirror_mode": {
    "name": "ipython",
    "version": 3
   },
   "file_extension": ".py",
   "mimetype": "text/x-python",
   "name": "python",
   "nbconvert_exporter": "python",
   "pygments_lexer": "ipython3",
   "version": "3.7.3"
  }
 },
 "nbformat": 4,
 "nbformat_minor": 2
}
